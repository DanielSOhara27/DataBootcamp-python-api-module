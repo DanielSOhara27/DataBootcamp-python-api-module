{
 "cells": [
  {
   "cell_type": "code",
   "execution_count": 11,
   "metadata": {},
   "outputs": [
    {
     "name": "stdout",
     "output_type": "stream",
     "text": [
      "One does not simply divide by zero and expect the universe to comply\n",
      "You are trying to use a variable that is not defined\n",
      "There are incompatible types of variables being used together\n",
      "You made it through the gauntlet--the message survived!\n"
     ]
    }
   ],
   "source": [
    "# Your assignment is to get the last line to print without changing any\n",
    "# of the code below. Instead, wrap each line that throws an error in a\n",
    "# try/except block.\n",
    "try:\n",
    "    print(\"Infinity looks like + \" + str(10 / 0) + \".\")\n",
    "\n",
    "except ZeroDivisionError:\n",
    "    print(f\"One does not simply divide by zero and expect the universe to comply\\n\")\n",
    "    \n",
    "try:\n",
    "    print(\"I think her name was + \" + name + \"?\")\n",
    "\n",
    "except NameError:\n",
    "    print(f\"You are trying to use a variable that is not defined\\n\")\n",
    "\n",
    "try:\n",
    "    print(\"Your name is a nonsense number. Look: \" + int(\"Gabriel\"))\n",
    "\n",
    "except ValueError:\n",
    "    print(\"There are incompatible types of variables being used together\\n\")\n",
    "    \n",
    "print(\"You made it through the gauntlet--the message survived!\")\n"
   ]
  },
  {
   "cell_type": "code",
   "execution_count": null,
   "metadata": {},
   "outputs": [],
   "source": []
  }
 ],
 "metadata": {
  "kernelspec": {
   "display_name": "Python [conda env:root]",
   "language": "python",
   "name": "conda-root-py"
  },
  "language_info": {
   "codemirror_mode": {
    "name": "ipython",
    "version": 3
   },
   "file_extension": ".py",
   "mimetype": "text/x-python",
   "name": "python",
   "nbconvert_exporter": "python",
   "pygments_lexer": "ipython3",
   "version": "3.7.0"
  }
 },
 "nbformat": 4,
 "nbformat_minor": 2
}
