{
 "cells": [
  {
   "cell_type": "code",
   "execution_count": 3,
   "metadata": {},
   "outputs": [],
   "source": [
    "# Dependencies\n",
    "import json\n",
    "import requests \n",
    "import os\n",
    "from pprint import pprint"
   ]
  },
  {
   "cell_type": "code",
   "execution_count": 2,
   "metadata": {},
   "outputs": [
    {
     "data": {
      "text/plain": [
       "<Response [200]>"
      ]
     },
     "execution_count": 2,
     "metadata": {},
     "output_type": "execute_result"
    }
   ],
   "source": [
    "# Specify the URL\n",
    "url = \"http://nyt-mongo-scraper.herokuapp.com/api/headlines\"\n",
    "\n",
    "# Make request and store response\n",
    "response = requests.get(url)\n",
    "\n",
    "response"
   ]
  },
  {
   "cell_type": "code",
   "execution_count": 4,
   "metadata": {},
   "outputs": [
    {
     "name": "stdout",
     "output_type": "stream",
     "text": [
      "[{'__v': 0,\n",
      "  '_id': '5c152b824906370014893bde',\n",
      "  'date': '2018-12-15T16:27:46.502Z',\n",
      "  'headline': '11 of Our Best Weekend ReadsNetflix’s film version of '\n",
      "              '“Springsteen on Broadway” is a revelation, our critic '\n",
      "              'writes.Did you stay up to date this week? Take our news quiz.',\n",
      "  'saved': False,\n",
      "  'summary': 'Ellen DeGeneres is not as nice as you think. Your apps aren’t '\n",
      "             'keeping your location secret. Our most popular recipes of 2018. '\n",
      "             'And more.',\n",
      "  'url': 'https://www.nytimes.com/2018/12/15/arts/11-of-our-best-weekend-reads.html'},\n",
      " {'__v': 0,\n",
      "  '_id': '5c152b824906370014893bdd',\n",
      "  'date': '2018-12-15T16:27:46.501Z',\n",
      "  'headline': 'Paris Is Fortified for 5th Week of ‘Yellow Vest’ ProtestsAfter '\n",
      "              'Yellow Vests Come Off, Activists in France Use Facebook to '\n",
      "              'Protest and Plan',\n",
      "  'saved': False,\n",
      "  'summary': 'Away from the street protests, demonstrators have built thriving '\n",
      "             'communities in Facebook groups, which are helping to fuel the '\n",
      "             'Yellow Vests.',\n",
      "  'url': 'https://www.nytimes.com/2018/12/15/world/europe/france-yellow-vest-protests.html'}]\n"
     ]
    }
   ],
   "source": [
    "# JSON-ify response\n",
    "jsonNYT = response.json()\n",
    "\n",
    "pprint(jsonNYT)"
   ]
  },
  {
   "cell_type": "code",
   "execution_count": null,
   "metadata": {
    "collapsed": true,
    "scrolled": true
   },
   "outputs": [],
   "source": [
    "# Print first and last articles\n",
    "\n"
   ]
  },
  {
   "cell_type": "code",
   "execution_count": null,
   "metadata": {
    "collapsed": true
   },
   "outputs": [],
   "source": [
    "#Print the number of responses received."
   ]
  }
 ],
 "metadata": {
  "kernelspec": {
   "display_name": "Python 3",
   "language": "python",
   "name": "python3"
  },
  "language_info": {
   "codemirror_mode": {
    "name": "ipython",
    "version": 3
   },
   "file_extension": ".py",
   "mimetype": "text/x-python",
   "name": "python",
   "nbconvert_exporter": "python",
   "pygments_lexer": "ipython3",
   "version": "3.6.5"
  },
  "varInspector": {
   "cols": {
    "lenName": 16,
    "lenType": 16,
    "lenVar": 40
   },
   "kernels_config": {
    "python": {
     "delete_cmd_postfix": "",
     "delete_cmd_prefix": "del ",
     "library": "var_list.py",
     "varRefreshCmd": "print(var_dic_list())"
    },
    "r": {
     "delete_cmd_postfix": ") ",
     "delete_cmd_prefix": "rm(",
     "library": "var_list.r",
     "varRefreshCmd": "cat(var_dic_list()) "
    }
   },
   "types_to_exclude": [
    "module",
    "function",
    "builtin_function_or_method",
    "instance",
    "_Feature"
   ],
   "window_display": false
  }
 },
 "nbformat": 4,
 "nbformat_minor": 2
}
