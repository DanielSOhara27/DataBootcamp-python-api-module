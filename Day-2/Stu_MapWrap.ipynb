{
 "cells": [
  {
   "cell_type": "code",
   "execution_count": 10,
   "metadata": {},
   "outputs": [],
   "source": [
    "# Dependencies\n",
    "import csv\n",
    "import matplotlib.pyplot as plt\n",
    "import openweathermapy as owm\n",
    "import pandas as pd\n",
    "import os\n",
    "\n",
    "# import api_key from config file\n",
    "f = open(os.path.join(\"..\",\"..\",\"..\",\"openWeather_api_key.txt\"), \"r\")\n",
    "api_key = f.read()\n",
    "f.close()"
   ]
  },
  {
   "cell_type": "code",
   "execution_count": 11,
   "metadata": {},
   "outputs": [],
   "source": [
    "# Create a settings object with your API key and preferred units\n",
    "settings = {\"units\": \"metric\", \"appid\": api_key}"
   ]
  },
  {
   "cell_type": "code",
   "execution_count": 19,
   "metadata": {},
   "outputs": [
    {
     "name": "stdout",
     "output_type": "stream",
     "text": [
      "['Paris', 'London', 'Oslo', 'Beijing', 'Moscow', 'Vladivostok', 'Osaka', 'Honolulu', 'Montevideo', 'Erbil']\n"
     ]
    }
   ],
   "source": [
    "# Get data for each city in cities.csv\n",
    "cities = list()\n",
    "cityweather = dict()\n",
    "\n",
    "with open(\"cities.csv\", \"r\") as citiesCSV:\n",
    "    csvData = csv.reader(citiesCSV)\n",
    "    \n",
    "    for row in csvData:\n",
    "        cities.append(row[0])\n",
    "        \n",
    "for city in cities:\n",
    "    cityweather[city] = owm.get_current(city, **settings)\n",
    "\n",
    "print(cities)"
   ]
  },
  {
   "cell_type": "code",
   "execution_count": 30,
   "metadata": {},
   "outputs": [
    {
     "data": {
      "text/html": [
       "<div>\n",
       "<style scoped>\n",
       "    .dataframe tbody tr th:only-of-type {\n",
       "        vertical-align: middle;\n",
       "    }\n",
       "\n",
       "    .dataframe tbody tr th {\n",
       "        vertical-align: top;\n",
       "    }\n",
       "\n",
       "    .dataframe thead th {\n",
       "        text-align: right;\n",
       "    }\n",
       "</style>\n",
       "<table border=\"1\" class=\"dataframe\">\n",
       "  <thead>\n",
       "    <tr style=\"text-align: right;\">\n",
       "      <th></th>\n",
       "      <th>cities</th>\n",
       "      <th>coord.lon</th>\n",
       "      <th>coord.lat</th>\n",
       "      <th>main.temp</th>\n",
       "    </tr>\n",
       "  </thead>\n",
       "  <tbody>\n",
       "    <tr>\n",
       "      <th>0</th>\n",
       "      <td>Paris</td>\n",
       "      <td>2.35</td>\n",
       "      <td>48.86</td>\n",
       "      <td>0.37</td>\n",
       "    </tr>\n",
       "    <tr>\n",
       "      <th>1</th>\n",
       "      <td>London</td>\n",
       "      <td>-0.13</td>\n",
       "      <td>51.51</td>\n",
       "      <td>4.37</td>\n",
       "    </tr>\n",
       "    <tr>\n",
       "      <th>2</th>\n",
       "      <td>Oslo</td>\n",
       "      <td>10.74</td>\n",
       "      <td>59.91</td>\n",
       "      <td>-3.85</td>\n",
       "    </tr>\n",
       "    <tr>\n",
       "      <th>3</th>\n",
       "      <td>Beijing</td>\n",
       "      <td>116.39</td>\n",
       "      <td>39.91</td>\n",
       "      <td>-7.00</td>\n",
       "    </tr>\n",
       "    <tr>\n",
       "      <th>4</th>\n",
       "      <td>Moscow</td>\n",
       "      <td>37.62</td>\n",
       "      <td>55.75</td>\n",
       "      <td>-8.20</td>\n",
       "    </tr>\n",
       "    <tr>\n",
       "      <th>5</th>\n",
       "      <td>Vladivostok</td>\n",
       "      <td>131.89</td>\n",
       "      <td>43.12</td>\n",
       "      <td>-10.00</td>\n",
       "    </tr>\n",
       "    <tr>\n",
       "      <th>6</th>\n",
       "      <td>Osaka</td>\n",
       "      <td>135.50</td>\n",
       "      <td>34.70</td>\n",
       "      <td>6.00</td>\n",
       "    </tr>\n",
       "    <tr>\n",
       "      <th>7</th>\n",
       "      <td>Honolulu</td>\n",
       "      <td>-157.86</td>\n",
       "      <td>21.30</td>\n",
       "      <td>22.37</td>\n",
       "    </tr>\n",
       "    <tr>\n",
       "      <th>8</th>\n",
       "      <td>Montevideo</td>\n",
       "      <td>-95.72</td>\n",
       "      <td>44.94</td>\n",
       "      <td>6.64</td>\n",
       "    </tr>\n",
       "    <tr>\n",
       "      <th>9</th>\n",
       "      <td>Erbil</td>\n",
       "      <td>44.01</td>\n",
       "      <td>36.19</td>\n",
       "      <td>6.00</td>\n",
       "    </tr>\n",
       "  </tbody>\n",
       "</table>\n",
       "</div>"
      ],
      "text/plain": [
       "        cities  coord.lon  coord.lat  main.temp\n",
       "0        Paris       2.35      48.86       0.37\n",
       "1       London      -0.13      51.51       4.37\n",
       "2         Oslo      10.74      59.91      -3.85\n",
       "3      Beijing     116.39      39.91      -7.00\n",
       "4       Moscow      37.62      55.75      -8.20\n",
       "5  Vladivostok     131.89      43.12     -10.00\n",
       "6        Osaka     135.50      34.70       6.00\n",
       "7     Honolulu    -157.86      21.30      22.37\n",
       "8   Montevideo     -95.72      44.94       6.64\n",
       "9        Erbil      44.01      36.19       6.00"
      ]
     },
     "execution_count": 30,
     "metadata": {},
     "output_type": "execute_result"
    }
   ],
   "source": [
    "# Create an \"extracts\" object to get the temperature, latitude,\n",
    "# and longitude in each city\n",
    "summary = ['name', \"coord.lon\", \"coord.lat\", \"main.temp\"]\n",
    "extracts = list()\n",
    "\n",
    "for city in cities:\n",
    "    extracts.append(cityweather[city](*summary))\n",
    "transposed = list(map(list, zip(*extracts)))\n",
    "transposed\n",
    "# Create a Pandas DataFrame with the results\n",
    "cities_df = pd.DataFrame(data={ \\\n",
    "                              \"cities\": transposed[0], \\\n",
    "                              \"coord.lon\": transposed[1], \\\n",
    "                              \"coord.lat\": transposed[2], \\\n",
    "                              \"main.temp\": transposed[3]})\n",
    "\n",
    "cities_df"
   ]
  },
  {
   "cell_type": "code",
   "execution_count": null,
   "metadata": {},
   "outputs": [],
   "source": []
  }
 ],
 "metadata": {
  "kernelspec": {
   "display_name": "Python 3",
   "language": "python",
   "name": "python3"
  },
  "language_info": {
   "codemirror_mode": {
    "name": "ipython",
    "version": 3
   },
   "file_extension": ".py",
   "mimetype": "text/x-python",
   "name": "python",
   "nbconvert_exporter": "python",
   "pygments_lexer": "ipython3",
   "version": "3.6.5"
  },
  "varInspector": {
   "cols": {
    "lenName": 16,
    "lenType": 16,
    "lenVar": 40
   },
   "kernels_config": {
    "python": {
     "delete_cmd_postfix": "",
     "delete_cmd_prefix": "del ",
     "library": "var_list.py",
     "varRefreshCmd": "print(var_dic_list())"
    },
    "r": {
     "delete_cmd_postfix": ") ",
     "delete_cmd_prefix": "rm(",
     "library": "var_list.r",
     "varRefreshCmd": "cat(var_dic_list()) "
    }
   },
   "types_to_exclude": [
    "module",
    "function",
    "builtin_function_or_method",
    "instance",
    "_Feature"
   ],
   "window_display": false
  }
 },
 "nbformat": 4,
 "nbformat_minor": 2
}
