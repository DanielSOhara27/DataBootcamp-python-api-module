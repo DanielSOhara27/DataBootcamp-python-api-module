{
 "cells": [
  {
   "cell_type": "code",
   "execution_count": 7,
   "metadata": {},
   "outputs": [],
   "source": [
    "# Create code to answer each of the following questions.\n",
    "# Hint: You will need multiple target URLs and multiple API requests.\n",
    "\n",
    "# Dependencies\n",
    "import requests\n",
    "import json\n",
    "import os\n",
    "from pprint import pprint\n",
    "\n",
    "# Retrieve Google API key from config.py\n",
    "f = open(os.path.join(\"..\", \"..\",\"..\", \"gmaps_api_key.txt\"), \"r\")\n",
    "api_key = f.read()\n",
    "f.close()\n",
    "\n",
    "places = (\"Seattle, Washington\", \"The White House\")"
   ]
  },
  {
   "cell_type": "code",
   "execution_count": 18,
   "metadata": {},
   "outputs": [
    {
     "name": "stdout",
     "output_type": "stream",
     "text": [
      "Seattle, Washington's lat: 47.6062095 & lon:-122.3320708 \n"
     ]
    }
   ],
   "source": [
    "# 1. What are the geocoordinates (latitude/longitude) of Seattle, Washington?\n",
    "\n",
    "url = 'https://maps.googleapis.com/maps/api/geocode/json'\n",
    "\n",
    "params = {\n",
    "    \"address\" : places[0],\n",
    "    \"key\" : api_key\n",
    "}\n",
    "\n",
    "response = requests.get(url, params=params)\n",
    "json = response.json()\n",
    "#pprint(json)\n",
    "\n",
    "lat = json['results'][0]['geometry']['location']['lat']\n",
    "lng = json['results'][0]['geometry']['location']['lng']\n",
    "\n",
    "print(f\"{places[0]}'s lat: {lat} & lon:{lng} \")"
   ]
  },
  {
   "cell_type": "code",
   "execution_count": 20,
   "metadata": {},
   "outputs": [
    {
     "name": "stdout",
     "output_type": "stream",
     "text": [
      "The White House's lat: 38.8976763 & lon:-77.0365298 \n"
     ]
    }
   ],
   "source": [
    "# 2. What are the geocoordinates (latitude/longitude) of The White House?\n",
    "url = 'https://maps.googleapis.com/maps/api/geocode/json'\n",
    "\n",
    "params = {\n",
    "    \"address\" : places[1],\n",
    "    \"key\" : api_key\n",
    "}\n",
    "\n",
    "response = requests.get(url, params=params)\n",
    "json = response.json()\n",
    "\n",
    "#pprint(json)\n",
    "\n",
    "lat = json['results'][0]['geometry']['location']['lat']\n",
    "lng = json['results'][0]['geometry']['location']['lng']\n",
    "\n",
    "print(f\"{places[1]}'s lat: {lat} & lon:{lng} \")"
   ]
  },
  {
   "cell_type": "code",
   "execution_count": null,
   "metadata": {
    "collapsed": true
   },
   "outputs": [],
   "source": [
    "# 3. Find the name and address of a bike store in Seattle, Washington.\n",
    "#    Hint: See https://developers.google.com/places/web-service/supported_types"
   ]
  },
  {
   "cell_type": "code",
   "execution_count": null,
   "metadata": {
    "collapsed": true
   },
   "outputs": [],
   "source": [
    "# 4. Find a balloon store near the White House."
   ]
  },
  {
   "cell_type": "code",
   "execution_count": null,
   "metadata": {
    "collapsed": true
   },
   "outputs": [],
   "source": [
    "# 5. Find the nearest dentist to your house.\n",
    "#    Hint: Use Google Maps to find your latitude and Google Places to find the\n",
    "#    dentist. You will also need the rankby property."
   ]
  },
  {
   "cell_type": "code",
   "execution_count": null,
   "metadata": {
    "collapsed": true
   },
   "outputs": [],
   "source": [
    "# 6. Bonus: Find the names and addresses of the top five restaurants in your home city.\n",
    "#    Hint: Read about \"Text Search Results\"\n",
    "# (https://developers.google.com/places/web-service/search#TextSearchRequests)"
   ]
  }
 ],
 "metadata": {
  "kernelspec": {
   "display_name": "Python [conda env:root]",
   "language": "python",
   "name": "conda-root-py"
  },
  "language_info": {
   "codemirror_mode": {
    "name": "ipython",
    "version": 3
   },
   "file_extension": ".py",
   "mimetype": "text/x-python",
   "name": "python",
   "nbconvert_exporter": "python",
   "pygments_lexer": "ipython3",
   "version": "3.7.0"
  }
 },
 "nbformat": 4,
 "nbformat_minor": 2
}
