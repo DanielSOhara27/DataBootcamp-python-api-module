{
 "cells": [
  {
   "cell_type": "code",
   "execution_count": 10,
   "metadata": {},
   "outputs": [],
   "source": [
    "%matplotlib inline\n",
    "\n",
    "import gmaps\n",
    "import os\n",
    "import pandas as pd\n",
    "\n",
    "# Google developer API key\n",
    "f = open(os.path.join(\"..\",\"..\",\"..\",\"gmaps_api_key.txt\"), \"r\")\n",
    "api_key = f.read()\n",
    "f.close()\n",
    "\n",
    "# Access maps with unique API key\n",
    "gmaps.configure(api_key=api_key)"
   ]
  },
  {
   "cell_type": "code",
   "execution_count": 15,
   "metadata": {},
   "outputs": [
    {
     "name": "stdout",
     "output_type": "stream",
     "text": [
      "Index(['Unnamed: 0', 'City', 'State', 'Lat', 'Lng', 'Airport Name',\n",
      "       'Airport Address', 'Airport Rating'],\n",
      "      dtype='object')\n",
      "Index(['no_name', 'City', 'State', 'Lat', 'Lng', 'Airport Name',\n",
      "       'Airport Address', 'Airport Rating'],\n",
      "      dtype='object')\n"
     ]
    },
    {
     "data": {
      "text/html": [
       "<div>\n",
       "<style scoped>\n",
       "    .dataframe tbody tr th:only-of-type {\n",
       "        vertical-align: middle;\n",
       "    }\n",
       "\n",
       "    .dataframe tbody tr th {\n",
       "        vertical-align: top;\n",
       "    }\n",
       "\n",
       "    .dataframe thead th {\n",
       "        text-align: right;\n",
       "    }\n",
       "</style>\n",
       "<table border=\"1\" class=\"dataframe\">\n",
       "  <thead>\n",
       "    <tr style=\"text-align: right;\">\n",
       "      <th></th>\n",
       "      <th>City</th>\n",
       "      <th>State</th>\n",
       "      <th>Lat</th>\n",
       "      <th>Lng</th>\n",
       "      <th>Airport Name</th>\n",
       "      <th>Airport Address</th>\n",
       "      <th>Airport Rating</th>\n",
       "    </tr>\n",
       "  </thead>\n",
       "  <tbody>\n",
       "    <tr>\n",
       "      <th>0</th>\n",
       "      <td>New York City</td>\n",
       "      <td>New York</td>\n",
       "      <td>40.712775</td>\n",
       "      <td>-74.005973</td>\n",
       "      <td>Newark Liberty International Airport</td>\n",
       "      <td>3 Brewster Rd, Newark</td>\n",
       "      <td>3.2</td>\n",
       "    </tr>\n",
       "    <tr>\n",
       "      <th>1</th>\n",
       "      <td>Los Angeles</td>\n",
       "      <td>California</td>\n",
       "      <td>34.052234</td>\n",
       "      <td>-118.243685</td>\n",
       "      <td>Los Angeles International Airport</td>\n",
       "      <td>1 World Way, Los Angeles</td>\n",
       "      <td>3.5</td>\n",
       "    </tr>\n",
       "    <tr>\n",
       "      <th>2</th>\n",
       "      <td>Chicago</td>\n",
       "      <td>Illinois</td>\n",
       "      <td>41.878114</td>\n",
       "      <td>-87.629798</td>\n",
       "      <td>O'Hare International Airport</td>\n",
       "      <td>10000 W O'Hare Ave, Chicago</td>\n",
       "      <td>3.6</td>\n",
       "    </tr>\n",
       "    <tr>\n",
       "      <th>3</th>\n",
       "      <td>Houston</td>\n",
       "      <td>Texas</td>\n",
       "      <td>29.760427</td>\n",
       "      <td>-95.369803</td>\n",
       "      <td>William P. Hobby Airport</td>\n",
       "      <td>7800 Airport Blvd, Houston</td>\n",
       "      <td>4.0</td>\n",
       "    </tr>\n",
       "    <tr>\n",
       "      <th>4</th>\n",
       "      <td>Philadelphia</td>\n",
       "      <td>Pennsylvania</td>\n",
       "      <td>39.952584</td>\n",
       "      <td>-75.165222</td>\n",
       "      <td>Philadelphia International Airport</td>\n",
       "      <td>8000 Essington Ave, Philadelphia</td>\n",
       "      <td>3.3</td>\n",
       "    </tr>\n",
       "  </tbody>\n",
       "</table>\n",
       "</div>"
      ],
      "text/plain": [
       "            City         State        Lat         Lng  \\\n",
       "0  New York City      New York  40.712775  -74.005973   \n",
       "1    Los Angeles    California  34.052234 -118.243685   \n",
       "2        Chicago      Illinois  41.878114  -87.629798   \n",
       "3        Houston         Texas  29.760427  -95.369803   \n",
       "4   Philadelphia  Pennsylvania  39.952584  -75.165222   \n",
       "\n",
       "                           Airport Name                   Airport Address  \\\n",
       "0  Newark Liberty International Airport             3 Brewster Rd, Newark   \n",
       "1     Los Angeles International Airport          1 World Way, Los Angeles   \n",
       "2          O'Hare International Airport       10000 W O'Hare Ave, Chicago   \n",
       "3              William P. Hobby Airport        7800 Airport Blvd, Houston   \n",
       "4    Philadelphia International Airport  8000 Essington Ave, Philadelphia   \n",
       "\n",
       "   Airport Rating  \n",
       "0             3.2  \n",
       "1             3.5  \n",
       "2             3.6  \n",
       "3             4.0  \n",
       "4             3.3  "
      ]
     },
     "execution_count": 15,
     "metadata": {},
     "output_type": "execute_result"
    }
   ],
   "source": [
    "# Create aiport dataframe\n",
    "airports_pd = pd.read_csv(\"Airport_Output.csv\")\n",
    "print(airports_pd.columns)\n",
    "airports_pd = airports_pd.rename(index=str, columns={\"Unnamed: 0\": \"no_name\"})\n",
    "print(airports_pd.columns)\n",
    "airports_pd = airports_pd.drop(['no_name'], axis=1)\n",
    "airports_pd.head()"
   ]
  },
  {
   "cell_type": "code",
   "execution_count": 3,
   "metadata": {},
   "outputs": [],
   "source": [
    "# Store latitude and longitude in locations\n",
    "\n",
    "\n",
    "# Filla NaN values and convert to float\n"
   ]
  },
  {
   "cell_type": "code",
   "execution_count": 4,
   "metadata": {},
   "outputs": [],
   "source": [
    "# Plot Heatmap"
   ]
  },
  {
   "cell_type": "code",
   "execution_count": null,
   "metadata": {},
   "outputs": [],
   "source": []
  }
 ],
 "metadata": {
  "kernelspec": {
   "display_name": "Python [conda env:root]",
   "language": "python",
   "name": "conda-root-py"
  },
  "language_info": {
   "codemirror_mode": {
    "name": "ipython",
    "version": 3
   },
   "file_extension": ".py",
   "mimetype": "text/x-python",
   "name": "python",
   "nbconvert_exporter": "python",
   "pygments_lexer": "ipython3",
   "version": "3.7.0"
  }
 },
 "nbformat": 4,
 "nbformat_minor": 2
}
